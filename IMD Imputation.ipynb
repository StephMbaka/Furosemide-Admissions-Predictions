{
 "cells": [
  {
   "cell_type": "code",
   "execution_count": 2,
   "id": "bd5d8f14-d6fb-4530-9bf6-215ac44eb3a1",
   "metadata": {},
   "outputs": [],
   "source": [
    "#!pip install fancyimpute\n",
    "\n"
   ]
  },
  {
   "cell_type": "code",
   "execution_count": null,
   "id": "24cadc5c-024a-4556-bd52-2082bda151e8",
   "metadata": {},
   "outputs": [],
   "source": [
    "import pandas as pd\n",
    "from fancyimpute import IterativeImputer\n",
    "from sklearn.preprocessing import LabelEncoder\n",
    "\n",
    "# Load dataset\n",
    "file_path = \"updated_patient_data.xlsx\"\n",
    "df = pd.read_excel(file_path)\n",
    "\n",
    "# Convert 'Unknown' or non-numeric IMD values to NaN\n",
    "df[\"IMD\"] = pd.to_numeric(df[\"IMD\"], errors=\"coerce\")\n",
    "\n",
    "# Select relevant predictors\n",
    "features = [\"IMD\", \"ethnicgroup\", \"bmi\", \"age\"]\n",
    "df_subset = df[features].copy()\n",
    "\n",
    "# Convert categorical ethnicity to numerical labels\n",
    "label_encoder = LabelEncoder()\n",
    "df_subset[\"ethnicgroup_encoded\"] = label_encoder.fit_transform(df_subset[\"ethnicgroup\"])\n",
    "\n",
    "# Drop fully missing columns before MICE\n",
    "df_subset.drop(columns=[\"ethnicgroup\"], inplace=True)\n",
    "df_subset.dropna(axis=1, how=\"all\", inplace=True)  # Removes columns where all values are NaN\n",
    "\n",
    "# Apply MICE for missing IMD values\n",
    "imputer = IterativeImputer(max_iter=10, random_state=42)\n",
    "df_subset_imputed = pd.DataFrame(imputer.fit_transform(df_subset), columns=df_subset.columns)  # Use correct column names\n",
    "\n",
    "# Replace missing IMD values only\n",
    "df.loc[df[\"IMD\"].isna(), \"IMD\"] = df_subset_imputed.loc[df[\"IMD\"].isna(), \"IMD\"].round()\n",
    "\n",
    "# Save the updated dataset\n",
    "df.to_excel(\"updated_imd_data.xlsx\", index=False)\n",
    "\n",
    "# Display first few rows\n",
    "print(df.head())\n"
   ]
  },
  {
   "cell_type": "code",
   "execution_count": null,
   "id": "0e91cb4f-69b4-47a4-a27b-8a1495943ed2",
   "metadata": {},
   "outputs": [],
   "source": []
  }
 ],
 "metadata": {
  "kernelspec": {
   "display_name": "Python 3 (ipykernel)",
   "language": "python",
   "name": "python3"
  },
  "language_info": {
   "codemirror_mode": {
    "name": "ipython",
    "version": 3
   },
   "file_extension": ".py",
   "mimetype": "text/x-python",
   "name": "python",
   "nbconvert_exporter": "python",
   "pygments_lexer": "ipython3",
   "version": "3.12.4"
  }
 },
 "nbformat": 4,
 "nbformat_minor": 5
}
