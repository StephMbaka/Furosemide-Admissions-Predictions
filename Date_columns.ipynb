{
 "cells": [
  {
   "cell_type": "code",
   "execution_count": 7,
   "id": "494c1b1a-813f-480c-b1c6-e16f291d6083",
   "metadata": {},
   "outputs": [],
   "source": [
    "import pandas as pd"
   ]
  },
  {
   "cell_type": "code",
   "execution_count": 9,
   "id": "cb8c1902-b611-4310-a98b-8826d986f084",
   "metadata": {},
   "outputs": [
    {
     "name": "stdout",
     "output_type": "stream",
     "text": [
      "HF_aligned_data.xlsx saved successfully.\n"
     ]
    }
   ],
   "source": [
    "# Load the dataset\n",
    "file_path = \"yearly_merged_data.xlsx\"\n",
    "df = pd.read_excel(file_path)\n",
    "\n",
    "# Convert date columns to datetime\n",
    "df['date_prescribed'] = pd.to_datetime(df['date_prescribed'], errors='coerce')\n",
    "df['start_date'] = pd.to_datetime(df['start_date'], errors='coerce')\n",
    "df['end_date'] = pd.to_datetime(df['end_date'], errors='coerce')\n",
    "df['admitdate'] = pd.to_datetime(df['admitdate'], errors='coerce')\n",
    "df['Indexdate_HFailure'] = pd.to_datetime(df['Indexdate_HFailure'], errors='coerce')\n",
    "df['Indexdate_Furosemide'] = pd.to_datetime(df['Indexdate_Furosemide'], errors='coerce')\n",
    "df['gp_reg_date'] = pd.to_datetime(df['gp_reg_date'], format='%Y%m%d', errors='coerce')\n",
    "df['DeathDate'] = pd.to_datetime(df['DeathDate'], format='%Y%m%d', errors='coerce')\n",
    "\n",
    "# Set T0 as the earliest of the two relevant dates\n",
    "#df['T0_date'] = df[['Indexdate_HFailure', 'Indexdate_Furosemide']].min(axis=1)\n",
    "#df['T0'] = df['T0_date'].dt.year\n",
    "\n",
    "# Filter out events before T0\n",
    "#df = df[df['Year'] >= df['T0']]\n",
    "\n",
    "# Fill blanks in medication flags\n",
    "drug_columns = ['Aceinhibitor', 'Diuretics', 'Betablockers', 'ARB.AIIRA', 'SGLT2', 'MRA', 'antiarrhymthmic']\n",
    "df[drug_columns] = df[drug_columns].fillna(0)\n",
    "\n",
    "# Format dates for export\n",
    "df['date_prescribed'] = df['date_prescribed'].dt.strftime('%Y-%m-%d')\n",
    "df['start_date'] = df['start_date'].dt.strftime('%Y-%m-%d')\n",
    "df['end_date'] = df['end_date'].dt.strftime('%Y-%m-%d')\n",
    "df['admitdate'] = df['admitdate'].dt.strftime('%Y-%m-%d')\n",
    "df['Indexdate_HFailure'] = df['Indexdate_HFailure'].dt.strftime('%Y-%m-%d')\n",
    "df['Indexdate_Furosemide'] = df['Indexdate_Furosemide'].dt.strftime('%Y-%m-%d')\n",
    "#df['T0_date'] = df['T0_date'].dt.strftime('%Y-%m-%d')\n",
    "df['gp_reg_date'] = df['gp_reg_date'].dt.strftime('%Y-%m-%d')\n",
    "df['DeathDate'] = df['DeathDate'].dt.strftime('%Y-%m-%d')\n",
    "df['DeathDate'] = df['DeathDate'].fillna('N/A')\n",
    "\n",
    "# Save cleaned output\n",
    "# df.to_excel(\"HF_aligned_data.xlsx\", index=False)\n",
    "\n",
    "print(\"HF_aligned_data.xlsx saved successfully.\")\n"
   ]
  },
  {
   "cell_type": "code",
   "execution_count": null,
   "id": "e3fc78be-5b46-4e01-b526-3207a5fe611b",
   "metadata": {},
   "outputs": [],
   "source": []
  }
 ],
 "metadata": {
  "kernelspec": {
   "display_name": "Python 3 (ipykernel)",
   "language": "python",
   "name": "python3"
  },
  "language_info": {
   "codemirror_mode": {
    "name": "ipython",
    "version": 3
   },
   "file_extension": ".py",
   "mimetype": "text/x-python",
   "name": "python",
   "nbconvert_exporter": "python",
   "pygments_lexer": "ipython3",
   "version": "3.12.4"
  }
 },
 "nbformat": 4,
 "nbformat_minor": 5
}
