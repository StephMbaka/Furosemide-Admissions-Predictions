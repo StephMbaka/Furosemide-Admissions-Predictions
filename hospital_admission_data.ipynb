{
 "cells": [
  {
   "cell_type": "code",
   "execution_count": 3,
   "id": "901d7c8f-f408-468c-8450-006b8694e243",
   "metadata": {},
   "outputs": [],
   "source": [
    "import pandas as pd\n",
    "from datetime import timedelta"
   ]
  },
  {
   "cell_type": "code",
   "execution_count": 7,
   "id": "19cf8052-5b51-45bd-92eb-6b83f3a3b571",
   "metadata": {},
   "outputs": [
    {
     "name": "stderr",
     "output_type": "stream",
     "text": [
      "/var/folders/dr/54f_3qc542jcqd08fgp715200000gn/T/ipykernel_5627/3554543553.py:39: DeprecationWarning: DataFrameGroupBy.apply operated on the grouping columns. This behavior is deprecated, and in a future version of pandas the grouping columns will be excluded from the operation. Either pass `include_groups=False` to exclude the groupings or explicitly select the grouping columns after groupby to silence this warning.\n",
      "  .apply(lambda x: calculate_non_overlapping_days(x[[\"start_date\", \"end_date\"]].values.tolist()))\n"
     ]
    },
    {
     "name": "stdout",
     "output_type": "stream",
     "text": [
      "Cleaned dataset saved as 'yearly_merged_data_x.xlsx'\n"
     ]
    }
   ],
   "source": [
    "# Load prescription data \n",
    "df = pd.read_excel(\"updated_bmi_data.xlsx\")\n",
    "\n",
    "# Parse prescription date and extract year\n",
    "df[\"date_prescribed\"] = pd.to_datetime(df[\"date_prescribed\"], errors=\"coerce\")\n",
    "df[\"Year\"] = df[\"date_prescribed\"].dt.year\n",
    "df[\"Month\"] = df[\"date_prescribed\"].dt.month\n",
    "\n",
    "# Clean key numeric fields\n",
    "df[\"quantity\"] = pd.to_numeric(df[\"quantity\"], errors=\"coerce\")\n",
    "df[\"duration\"] = pd.to_numeric(df[\"duration\"], errors=\"coerce\")\n",
    "df[\"Strength (mg)\"] = pd.to_numeric(df[\"Strength (mg)\"], errors=\"coerce\")\n",
    "\n",
    "# Compute per-prescription dose (quantity × strength)\n",
    "df[\"Total_Dose_mg\"] = df[\"quantity\"] * df[\"Strength (mg)\"]\n",
    "\n",
    "# Create prescription windows (still useful for optional duration analysis)\n",
    "df[\"start_date\"] = df[\"date_prescribed\"]\n",
    "df[\"end_date\"] = df[\"start_date\"] + pd.to_timedelta(df[\"duration\"], unit=\"D\")\n",
    "\n",
    "# Calculate non-overlapping durations\n",
    "def calculate_non_overlapping_days(intervals):\n",
    "    parsed = [(pd.to_datetime(start), pd.to_datetime(end)) \n",
    "              for start, end in intervals \n",
    "              if pd.notnull(start) and pd.notnull(end)]\n",
    "    parsed.sort(key=lambda x: x[0])\n",
    "\n",
    "    merged = []\n",
    "    for start, end in parsed:\n",
    "        if not merged or start > merged[-1][1]:\n",
    "            merged.append([start, end])\n",
    "        else:\n",
    "            merged[-1][1] = max(merged[-1][1], end)\n",
    "\n",
    "    return sum((end - start).days for start, end in merged)\n",
    "\n",
    "adjusted_duration = (\n",
    "    df.groupby([\"patID\", \"Year\"])\n",
    "    .apply(lambda x: calculate_non_overlapping_days(x[[\"start_date\", \"end_date\"]].values.tolist()))\n",
    "    .reset_index(name=\"Adjusted_Duration_Yearly\")\n",
    ")\n",
    "\n",
    "# Aggregate raw yearly totals \n",
    "yearly_summary = (\n",
    "    df.groupby([\"patID\", \"Year\"]).agg({\n",
    "        \"Total_Dose_mg\": \"sum\",\n",
    "        \"quantity\": \"sum\",\n",
    "        \"duration\": \"sum\"\n",
    "    }).reset_index()\n",
    ")\n",
    "\n",
    "yearly_summary.columns = [\n",
    "    \"patID\", \"Year\",\n",
    "    \"Total_Yearly_Dose\",\n",
    "    \"Total_Quantity_Yearly\",\n",
    "    \"Total_Duration_Yearly\"\n",
    "]\n",
    "\n",
    "# Merge totals and adjusted duration\n",
    "df = df.merge(yearly_summary, on=[\"patID\", \"Year\"], how=\"left\")\n",
    "df = df.merge(adjusted_duration, on=[\"patID\", \"Year\"], how=\"left\")\n",
    "\n",
    "# Load and merge hospital admissions \n",
    "admissions = pd.read_excel(\"hospital_admissions.xlsx\")\n",
    "merged_patient_data = df.merge(admissions, on=[\"patID\", \"Year\"], how=\"left\")\n",
    "\n",
    "# Flag rows with admission data\n",
    "merged_patient_data[\"has_admitdate\"] = merged_patient_data[\"admitdate\"].notna().astype(int)\n",
    "\n",
    "# Sort to prioritize admission records, then latest script\n",
    "merged_patient_data = merged_patient_data.sort_values(\n",
    "    by=[\"patID\", \"Year\", \"has_admitdate\", \"date_prescribed\"],\n",
    "    ascending=[True, True, False, False]\n",
    ")\n",
    "\n",
    "# Keep one record per patient-year\n",
    "merged_patient_data = merged_patient_data.drop_duplicates(subset=[\"patID\", \"Year\"], keep=\"first\")\n",
    "merged_patient_data = merged_patient_data.drop(columns=[\"has_admitdate\"])\n",
    "\n",
    "# Final cleanup and derived fields\n",
    "merged_patient_data[\"admitted\"] = merged_patient_data[\"admitted\"].fillna(\"No\")\n",
    "merged_patient_data[\"DeathDate\"] = merged_patient_data[\"DeathDate\"].fillna(\"N/A\")\n",
    "\n",
    "merged_patient_data[\"Year_of_event\"] = pd.to_datetime(merged_patient_data[\"date_prescribed\"], errors=\"coerce\").dt.year\n",
    "merged_patient_data[\"age_at_event\"] = merged_patient_data[\"Year_of_event\"] - merged_patient_data[\"birthyear\"]\n",
    "\n",
    "# Save cleaned output\n",
    "merged_patient_data.to_excel(\"yearly_merged_data_x.xlsx\", index=False)\n",
    "print(\"Cleaned dataset saved as 'yearly_merged_data_x.xlsx'\")\n"
   ]
  },
  {
   "cell_type": "code",
   "execution_count": null,
   "id": "d2d9d221-c134-4a37-8b6e-1877a64d1c25",
   "metadata": {},
   "outputs": [],
   "source": []
  }
 ],
 "metadata": {
  "kernelspec": {
   "display_name": "Python 3 (ipykernel)",
   "language": "python",
   "name": "python3"
  },
  "language_info": {
   "codemirror_mode": {
    "name": "ipython",
    "version": 3
   },
   "file_extension": ".py",
   "mimetype": "text/x-python",
   "name": "python",
   "nbconvert_exporter": "python",
   "pygments_lexer": "ipython3",
   "version": "3.12.4"
  }
 },
 "nbformat": 4,
 "nbformat_minor": 5
}
